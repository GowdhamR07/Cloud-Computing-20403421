{
 "cells": [
  {
   "cell_type": "markdown",
   "id": "23d3ea97",
   "metadata": {},
   "source": [
    "# Analysis and Performance evaluation of Terapixel rendering in (Super)Cloud Computing Data"
   ]
  },
  {
   "cell_type": "markdown",
   "id": "a35fb5da",
   "metadata": {},
   "source": [
    "## 1.Introduction"
   ]
  },
  {
   "cell_type": "markdown",
   "id": "5d836f21",
   "metadata": {},
   "source": [
    "*The purpose of this study is to analyze the IoT environmental data collected by Newcastle Urban Observatory for the city of Newcastle Upon Tyne. The main objective is to evaluate and explore performance timings of render application and GPU card and in each task, the details of which part of the image was being rendered. Terapixel images are rendered using a scalable cloud-based visualization architecture. The Terapixel image, once created, allows for interactive exploration of the city and its data at a wide range of sensing scales ranging from the entire city to a separate desk in a room, and is accessible via a broad range of thin client devices. CRISP-DM (Cross- Industry Standard Process for Data Mining) model will be used in this data analysis. This project will be entirely dedicated to the EDA (Exploratory Data Analysis) process.*"
   ]
  },
  {
   "cell_type": "markdown",
   "id": "1f936855",
   "metadata": {},
   "source": [
    "## 2. Data Exploration Planning and Analysis Requirement:"
   ]
  },
  {
   "cell_type": "markdown",
   "id": "a244841f",
   "metadata": {},
   "source": [
    "Tera scope terapixel data is subjected to preliminary analysis to better understand the data and provide information to business stakeholders. Based on the data set, this analysis of GPU cards and XY coordinates will aid in rendering Terapixel images in an efficient and effective manner."
   ]
  },
  {
   "cell_type": "markdown",
   "id": "d2f612ee",
   "metadata": {},
   "source": [
    "### 2.1 Data Exploration Planning:\n",
    "\n",
    "* Assessing the event types that dominate task runtimes.\n",
    "* Examining the correlation between GPU temperature and performance.\n",
    "* Analyzing the connection between increased power draw and render time.\n",
    "* Identifying GPU cards (based on their serial numbers) whose performance differs to other cards.  \n",
    "* Exploring the effectiveness of the task scheduling process."
   ]
  },
  {
   "cell_type": "markdown",
   "id": "9bb4380f",
   "metadata": {},
   "source": [
    "### 2.2 Analysis Plan and Requirement:"
   ]
  },
  {
   "cell_type": "markdown",
   "id": "ccb025cb",
   "metadata": {},
   "source": [
    "The analysis strategy for this report is to investigate the three data sets generated while different virtual machines render 3D images on 1024 GPU nodes during a run. This run is divided into three jobs to render the data visualization output, which show performance timing of the render application, performance of the GPU card, and details of which part of the image was rendered in each task. The requisite is to understand the data, then clean and preprocess the data before performing exploratory data analysis. This analysis will aid in the betterment of the rendering process."
   ]
  },
  {
   "cell_type": "code",
   "execution_count": 1,
   "id": "0a4e5530",
   "metadata": {},
   "outputs": [
    {
     "name": "stdout",
     "output_type": "stream",
     "text": [
      "Requirement already satisfied: pandasql in /Users/gowtham/opt/anaconda3/lib/python3.9/site-packages (0.7.3)\n",
      "Requirement already satisfied: pandas in /Users/gowtham/opt/anaconda3/lib/python3.9/site-packages (from pandasql) (1.4.4)\n",
      "Requirement already satisfied: numpy in /Users/gowtham/opt/anaconda3/lib/python3.9/site-packages (from pandasql) (1.21.5)\n",
      "Requirement already satisfied: sqlalchemy in /Users/gowtham/opt/anaconda3/lib/python3.9/site-packages (from pandasql) (1.4.39)\n",
      "Requirement already satisfied: python-dateutil>=2.8.1 in /Users/gowtham/opt/anaconda3/lib/python3.9/site-packages (from pandas->pandasql) (2.8.2)\n",
      "Requirement already satisfied: pytz>=2020.1 in /Users/gowtham/opt/anaconda3/lib/python3.9/site-packages (from pandas->pandasql) (2022.1)\n",
      "Requirement already satisfied: greenlet!=0.4.17 in /Users/gowtham/opt/anaconda3/lib/python3.9/site-packages (from sqlalchemy->pandasql) (1.1.1)\n",
      "Requirement already satisfied: six>=1.5 in /Users/gowtham/opt/anaconda3/lib/python3.9/site-packages (from python-dateutil>=2.8.1->pandas->pandasql) (1.16.0)\n"
     ]
    }
   ],
   "source": [
    "# Installing pandasql\n",
    "\n",
    "!pip install pandasql"
   ]
  },
  {
   "cell_type": "code",
   "execution_count": 2,
   "id": "e32e071c",
   "metadata": {},
   "outputs": [],
   "source": [
    "# Importing all the required libraries\n",
    "\n",
    "import pandas as pd\n",
    "import numpy as np\n",
    "import matplotlib.pyplot as plt\n",
    "import seaborn as sns\n",
    "import warnings\n",
    "warnings.filterwarnings('ignore')\n",
    "import datetime\n",
    "from pandasql import sqldf\n",
    "from datetime import datetime\n",
    "from pandas import Series\n",
    "sqlfn = lambda q: sqldf(q, globals())"
   ]
  },
  {
   "cell_type": "markdown",
   "id": "162e0c21",
   "metadata": {},
   "source": [
    "## 3. Data Understanding:"
   ]
  },
  {
   "cell_type": "markdown",
   "id": "2b55a30d",
   "metadata": {},
   "source": [
    "This analysis utilizes data from a dataset generated during a run with 1024 nodes. This analysis will be performed using three csv files application-checkpoints.csv, gpu.csv, task-x-y.csv. Below all the three csv files are read:"
   ]
  },
  {
   "cell_type": "code",
   "execution_count": 3,
   "id": "fef40040",
   "metadata": {},
   "outputs": [
    {
     "ename": "FileNotFoundError",
     "evalue": "[Errno 2] No such file or directory: 'application-checkpoints.csv'",
     "output_type": "error",
     "traceback": [
      "\u001b[0;31m---------------------------------------------------------------------------\u001b[0m",
      "\u001b[0;31mFileNotFoundError\u001b[0m                         Traceback (most recent call last)",
      "Cell \u001b[0;32mIn[3], line 3\u001b[0m\n\u001b[1;32m      1\u001b[0m \u001b[38;5;66;03m# Reading all the three CSV files\u001b[39;00m\n\u001b[0;32m----> 3\u001b[0m appcheckpoint\u001b[38;5;241m=\u001b[39m\u001b[43mpd\u001b[49m\u001b[38;5;241;43m.\u001b[39;49m\u001b[43mread_csv\u001b[49m\u001b[43m(\u001b[49m\u001b[38;5;124;43m\"\u001b[39;49m\u001b[38;5;124;43mapplication-checkpoints.csv\u001b[39;49m\u001b[38;5;124;43m\"\u001b[39;49m\u001b[43m)\u001b[49m\n\u001b[1;32m      4\u001b[0m gpu\u001b[38;5;241m=\u001b[39mpd\u001b[38;5;241m.\u001b[39mread_csv(\u001b[38;5;124m\"\u001b[39m\u001b[38;5;124mgpu.csv\u001b[39m\u001b[38;5;124m\"\u001b[39m)\n\u001b[1;32m      5\u001b[0m xy\u001b[38;5;241m=\u001b[39mpd\u001b[38;5;241m.\u001b[39mread_csv(\u001b[38;5;124m\"\u001b[39m\u001b[38;5;124mtask-x-y.csv\u001b[39m\u001b[38;5;124m\"\u001b[39m)\n",
      "File \u001b[0;32m~/opt/anaconda3/envs/tf/lib/python3.10/site-packages/pandas/util/_decorators.py:211\u001b[0m, in \u001b[0;36mdeprecate_kwarg.<locals>._deprecate_kwarg.<locals>.wrapper\u001b[0;34m(*args, **kwargs)\u001b[0m\n\u001b[1;32m    209\u001b[0m     \u001b[38;5;28;01melse\u001b[39;00m:\n\u001b[1;32m    210\u001b[0m         kwargs[new_arg_name] \u001b[38;5;241m=\u001b[39m new_arg_value\n\u001b[0;32m--> 211\u001b[0m \u001b[38;5;28;01mreturn\u001b[39;00m \u001b[43mfunc\u001b[49m\u001b[43m(\u001b[49m\u001b[38;5;241;43m*\u001b[39;49m\u001b[43margs\u001b[49m\u001b[43m,\u001b[49m\u001b[43m \u001b[49m\u001b[38;5;241;43m*\u001b[39;49m\u001b[38;5;241;43m*\u001b[39;49m\u001b[43mkwargs\u001b[49m\u001b[43m)\u001b[49m\n",
      "File \u001b[0;32m~/opt/anaconda3/envs/tf/lib/python3.10/site-packages/pandas/util/_decorators.py:331\u001b[0m, in \u001b[0;36mdeprecate_nonkeyword_arguments.<locals>.decorate.<locals>.wrapper\u001b[0;34m(*args, **kwargs)\u001b[0m\n\u001b[1;32m    325\u001b[0m \u001b[38;5;28;01mif\u001b[39;00m \u001b[38;5;28mlen\u001b[39m(args) \u001b[38;5;241m>\u001b[39m num_allow_args:\n\u001b[1;32m    326\u001b[0m     warnings\u001b[38;5;241m.\u001b[39mwarn(\n\u001b[1;32m    327\u001b[0m         msg\u001b[38;5;241m.\u001b[39mformat(arguments\u001b[38;5;241m=\u001b[39m_format_argument_list(allow_args)),\n\u001b[1;32m    328\u001b[0m         \u001b[38;5;167;01mFutureWarning\u001b[39;00m,\n\u001b[1;32m    329\u001b[0m         stacklevel\u001b[38;5;241m=\u001b[39mfind_stack_level(),\n\u001b[1;32m    330\u001b[0m     )\n\u001b[0;32m--> 331\u001b[0m \u001b[38;5;28;01mreturn\u001b[39;00m \u001b[43mfunc\u001b[49m\u001b[43m(\u001b[49m\u001b[38;5;241;43m*\u001b[39;49m\u001b[43margs\u001b[49m\u001b[43m,\u001b[49m\u001b[43m \u001b[49m\u001b[38;5;241;43m*\u001b[39;49m\u001b[38;5;241;43m*\u001b[39;49m\u001b[43mkwargs\u001b[49m\u001b[43m)\u001b[49m\n",
      "File \u001b[0;32m~/opt/anaconda3/envs/tf/lib/python3.10/site-packages/pandas/io/parsers/readers.py:950\u001b[0m, in \u001b[0;36mread_csv\u001b[0;34m(filepath_or_buffer, sep, delimiter, header, names, index_col, usecols, squeeze, prefix, mangle_dupe_cols, dtype, engine, converters, true_values, false_values, skipinitialspace, skiprows, skipfooter, nrows, na_values, keep_default_na, na_filter, verbose, skip_blank_lines, parse_dates, infer_datetime_format, keep_date_col, date_parser, dayfirst, cache_dates, iterator, chunksize, compression, thousands, decimal, lineterminator, quotechar, quoting, doublequote, escapechar, comment, encoding, encoding_errors, dialect, error_bad_lines, warn_bad_lines, on_bad_lines, delim_whitespace, low_memory, memory_map, float_precision, storage_options)\u001b[0m\n\u001b[1;32m    935\u001b[0m kwds_defaults \u001b[38;5;241m=\u001b[39m _refine_defaults_read(\n\u001b[1;32m    936\u001b[0m     dialect,\n\u001b[1;32m    937\u001b[0m     delimiter,\n\u001b[0;32m   (...)\u001b[0m\n\u001b[1;32m    946\u001b[0m     defaults\u001b[38;5;241m=\u001b[39m{\u001b[38;5;124m\"\u001b[39m\u001b[38;5;124mdelimiter\u001b[39m\u001b[38;5;124m\"\u001b[39m: \u001b[38;5;124m\"\u001b[39m\u001b[38;5;124m,\u001b[39m\u001b[38;5;124m\"\u001b[39m},\n\u001b[1;32m    947\u001b[0m )\n\u001b[1;32m    948\u001b[0m kwds\u001b[38;5;241m.\u001b[39mupdate(kwds_defaults)\n\u001b[0;32m--> 950\u001b[0m \u001b[38;5;28;01mreturn\u001b[39;00m \u001b[43m_read\u001b[49m\u001b[43m(\u001b[49m\u001b[43mfilepath_or_buffer\u001b[49m\u001b[43m,\u001b[49m\u001b[43m \u001b[49m\u001b[43mkwds\u001b[49m\u001b[43m)\u001b[49m\n",
      "File \u001b[0;32m~/opt/anaconda3/envs/tf/lib/python3.10/site-packages/pandas/io/parsers/readers.py:605\u001b[0m, in \u001b[0;36m_read\u001b[0;34m(filepath_or_buffer, kwds)\u001b[0m\n\u001b[1;32m    602\u001b[0m _validate_names(kwds\u001b[38;5;241m.\u001b[39mget(\u001b[38;5;124m\"\u001b[39m\u001b[38;5;124mnames\u001b[39m\u001b[38;5;124m\"\u001b[39m, \u001b[38;5;28;01mNone\u001b[39;00m))\n\u001b[1;32m    604\u001b[0m \u001b[38;5;66;03m# Create the parser.\u001b[39;00m\n\u001b[0;32m--> 605\u001b[0m parser \u001b[38;5;241m=\u001b[39m \u001b[43mTextFileReader\u001b[49m\u001b[43m(\u001b[49m\u001b[43mfilepath_or_buffer\u001b[49m\u001b[43m,\u001b[49m\u001b[43m \u001b[49m\u001b[38;5;241;43m*\u001b[39;49m\u001b[38;5;241;43m*\u001b[39;49m\u001b[43mkwds\u001b[49m\u001b[43m)\u001b[49m\n\u001b[1;32m    607\u001b[0m \u001b[38;5;28;01mif\u001b[39;00m chunksize \u001b[38;5;129;01mor\u001b[39;00m iterator:\n\u001b[1;32m    608\u001b[0m     \u001b[38;5;28;01mreturn\u001b[39;00m parser\n",
      "File \u001b[0;32m~/opt/anaconda3/envs/tf/lib/python3.10/site-packages/pandas/io/parsers/readers.py:1442\u001b[0m, in \u001b[0;36mTextFileReader.__init__\u001b[0;34m(self, f, engine, **kwds)\u001b[0m\n\u001b[1;32m   1439\u001b[0m     \u001b[38;5;28mself\u001b[39m\u001b[38;5;241m.\u001b[39moptions[\u001b[38;5;124m\"\u001b[39m\u001b[38;5;124mhas_index_names\u001b[39m\u001b[38;5;124m\"\u001b[39m] \u001b[38;5;241m=\u001b[39m kwds[\u001b[38;5;124m\"\u001b[39m\u001b[38;5;124mhas_index_names\u001b[39m\u001b[38;5;124m\"\u001b[39m]\n\u001b[1;32m   1441\u001b[0m \u001b[38;5;28mself\u001b[39m\u001b[38;5;241m.\u001b[39mhandles: IOHandles \u001b[38;5;241m|\u001b[39m \u001b[38;5;28;01mNone\u001b[39;00m \u001b[38;5;241m=\u001b[39m \u001b[38;5;28;01mNone\u001b[39;00m\n\u001b[0;32m-> 1442\u001b[0m \u001b[38;5;28mself\u001b[39m\u001b[38;5;241m.\u001b[39m_engine \u001b[38;5;241m=\u001b[39m \u001b[38;5;28;43mself\u001b[39;49m\u001b[38;5;241;43m.\u001b[39;49m\u001b[43m_make_engine\u001b[49m\u001b[43m(\u001b[49m\u001b[43mf\u001b[49m\u001b[43m,\u001b[49m\u001b[43m \u001b[49m\u001b[38;5;28;43mself\u001b[39;49m\u001b[38;5;241;43m.\u001b[39;49m\u001b[43mengine\u001b[49m\u001b[43m)\u001b[49m\n",
      "File \u001b[0;32m~/opt/anaconda3/envs/tf/lib/python3.10/site-packages/pandas/io/parsers/readers.py:1735\u001b[0m, in \u001b[0;36mTextFileReader._make_engine\u001b[0;34m(self, f, engine)\u001b[0m\n\u001b[1;32m   1733\u001b[0m     \u001b[38;5;28;01mif\u001b[39;00m \u001b[38;5;124m\"\u001b[39m\u001b[38;5;124mb\u001b[39m\u001b[38;5;124m\"\u001b[39m \u001b[38;5;129;01mnot\u001b[39;00m \u001b[38;5;129;01min\u001b[39;00m mode:\n\u001b[1;32m   1734\u001b[0m         mode \u001b[38;5;241m+\u001b[39m\u001b[38;5;241m=\u001b[39m \u001b[38;5;124m\"\u001b[39m\u001b[38;5;124mb\u001b[39m\u001b[38;5;124m\"\u001b[39m\n\u001b[0;32m-> 1735\u001b[0m \u001b[38;5;28mself\u001b[39m\u001b[38;5;241m.\u001b[39mhandles \u001b[38;5;241m=\u001b[39m \u001b[43mget_handle\u001b[49m\u001b[43m(\u001b[49m\n\u001b[1;32m   1736\u001b[0m \u001b[43m    \u001b[49m\u001b[43mf\u001b[49m\u001b[43m,\u001b[49m\n\u001b[1;32m   1737\u001b[0m \u001b[43m    \u001b[49m\u001b[43mmode\u001b[49m\u001b[43m,\u001b[49m\n\u001b[1;32m   1738\u001b[0m \u001b[43m    \u001b[49m\u001b[43mencoding\u001b[49m\u001b[38;5;241;43m=\u001b[39;49m\u001b[38;5;28;43mself\u001b[39;49m\u001b[38;5;241;43m.\u001b[39;49m\u001b[43moptions\u001b[49m\u001b[38;5;241;43m.\u001b[39;49m\u001b[43mget\u001b[49m\u001b[43m(\u001b[49m\u001b[38;5;124;43m\"\u001b[39;49m\u001b[38;5;124;43mencoding\u001b[39;49m\u001b[38;5;124;43m\"\u001b[39;49m\u001b[43m,\u001b[49m\u001b[43m \u001b[49m\u001b[38;5;28;43;01mNone\u001b[39;49;00m\u001b[43m)\u001b[49m\u001b[43m,\u001b[49m\n\u001b[1;32m   1739\u001b[0m \u001b[43m    \u001b[49m\u001b[43mcompression\u001b[49m\u001b[38;5;241;43m=\u001b[39;49m\u001b[38;5;28;43mself\u001b[39;49m\u001b[38;5;241;43m.\u001b[39;49m\u001b[43moptions\u001b[49m\u001b[38;5;241;43m.\u001b[39;49m\u001b[43mget\u001b[49m\u001b[43m(\u001b[49m\u001b[38;5;124;43m\"\u001b[39;49m\u001b[38;5;124;43mcompression\u001b[39;49m\u001b[38;5;124;43m\"\u001b[39;49m\u001b[43m,\u001b[49m\u001b[43m \u001b[49m\u001b[38;5;28;43;01mNone\u001b[39;49;00m\u001b[43m)\u001b[49m\u001b[43m,\u001b[49m\n\u001b[1;32m   1740\u001b[0m \u001b[43m    \u001b[49m\u001b[43mmemory_map\u001b[49m\u001b[38;5;241;43m=\u001b[39;49m\u001b[38;5;28;43mself\u001b[39;49m\u001b[38;5;241;43m.\u001b[39;49m\u001b[43moptions\u001b[49m\u001b[38;5;241;43m.\u001b[39;49m\u001b[43mget\u001b[49m\u001b[43m(\u001b[49m\u001b[38;5;124;43m\"\u001b[39;49m\u001b[38;5;124;43mmemory_map\u001b[39;49m\u001b[38;5;124;43m\"\u001b[39;49m\u001b[43m,\u001b[49m\u001b[43m \u001b[49m\u001b[38;5;28;43;01mFalse\u001b[39;49;00m\u001b[43m)\u001b[49m\u001b[43m,\u001b[49m\n\u001b[1;32m   1741\u001b[0m \u001b[43m    \u001b[49m\u001b[43mis_text\u001b[49m\u001b[38;5;241;43m=\u001b[39;49m\u001b[43mis_text\u001b[49m\u001b[43m,\u001b[49m\n\u001b[1;32m   1742\u001b[0m \u001b[43m    \u001b[49m\u001b[43merrors\u001b[49m\u001b[38;5;241;43m=\u001b[39;49m\u001b[38;5;28;43mself\u001b[39;49m\u001b[38;5;241;43m.\u001b[39;49m\u001b[43moptions\u001b[49m\u001b[38;5;241;43m.\u001b[39;49m\u001b[43mget\u001b[49m\u001b[43m(\u001b[49m\u001b[38;5;124;43m\"\u001b[39;49m\u001b[38;5;124;43mencoding_errors\u001b[39;49m\u001b[38;5;124;43m\"\u001b[39;49m\u001b[43m,\u001b[49m\u001b[43m \u001b[49m\u001b[38;5;124;43m\"\u001b[39;49m\u001b[38;5;124;43mstrict\u001b[39;49m\u001b[38;5;124;43m\"\u001b[39;49m\u001b[43m)\u001b[49m\u001b[43m,\u001b[49m\n\u001b[1;32m   1743\u001b[0m \u001b[43m    \u001b[49m\u001b[43mstorage_options\u001b[49m\u001b[38;5;241;43m=\u001b[39;49m\u001b[38;5;28;43mself\u001b[39;49m\u001b[38;5;241;43m.\u001b[39;49m\u001b[43moptions\u001b[49m\u001b[38;5;241;43m.\u001b[39;49m\u001b[43mget\u001b[49m\u001b[43m(\u001b[49m\u001b[38;5;124;43m\"\u001b[39;49m\u001b[38;5;124;43mstorage_options\u001b[39;49m\u001b[38;5;124;43m\"\u001b[39;49m\u001b[43m,\u001b[49m\u001b[43m \u001b[49m\u001b[38;5;28;43;01mNone\u001b[39;49;00m\u001b[43m)\u001b[49m\u001b[43m,\u001b[49m\n\u001b[1;32m   1744\u001b[0m \u001b[43m\u001b[49m\u001b[43m)\u001b[49m\n\u001b[1;32m   1745\u001b[0m \u001b[38;5;28;01massert\u001b[39;00m \u001b[38;5;28mself\u001b[39m\u001b[38;5;241m.\u001b[39mhandles \u001b[38;5;129;01mis\u001b[39;00m \u001b[38;5;129;01mnot\u001b[39;00m \u001b[38;5;28;01mNone\u001b[39;00m\n\u001b[1;32m   1746\u001b[0m f \u001b[38;5;241m=\u001b[39m \u001b[38;5;28mself\u001b[39m\u001b[38;5;241m.\u001b[39mhandles\u001b[38;5;241m.\u001b[39mhandle\n",
      "File \u001b[0;32m~/opt/anaconda3/envs/tf/lib/python3.10/site-packages/pandas/io/common.py:856\u001b[0m, in \u001b[0;36mget_handle\u001b[0;34m(path_or_buf, mode, encoding, compression, memory_map, is_text, errors, storage_options)\u001b[0m\n\u001b[1;32m    851\u001b[0m \u001b[38;5;28;01melif\u001b[39;00m \u001b[38;5;28misinstance\u001b[39m(handle, \u001b[38;5;28mstr\u001b[39m):\n\u001b[1;32m    852\u001b[0m     \u001b[38;5;66;03m# Check whether the filename is to be opened in binary mode.\u001b[39;00m\n\u001b[1;32m    853\u001b[0m     \u001b[38;5;66;03m# Binary mode does not support 'encoding' and 'newline'.\u001b[39;00m\n\u001b[1;32m    854\u001b[0m     \u001b[38;5;28;01mif\u001b[39;00m ioargs\u001b[38;5;241m.\u001b[39mencoding \u001b[38;5;129;01mand\u001b[39;00m \u001b[38;5;124m\"\u001b[39m\u001b[38;5;124mb\u001b[39m\u001b[38;5;124m\"\u001b[39m \u001b[38;5;129;01mnot\u001b[39;00m \u001b[38;5;129;01min\u001b[39;00m ioargs\u001b[38;5;241m.\u001b[39mmode:\n\u001b[1;32m    855\u001b[0m         \u001b[38;5;66;03m# Encoding\u001b[39;00m\n\u001b[0;32m--> 856\u001b[0m         handle \u001b[38;5;241m=\u001b[39m \u001b[38;5;28;43mopen\u001b[39;49m\u001b[43m(\u001b[49m\n\u001b[1;32m    857\u001b[0m \u001b[43m            \u001b[49m\u001b[43mhandle\u001b[49m\u001b[43m,\u001b[49m\n\u001b[1;32m    858\u001b[0m \u001b[43m            \u001b[49m\u001b[43mioargs\u001b[49m\u001b[38;5;241;43m.\u001b[39;49m\u001b[43mmode\u001b[49m\u001b[43m,\u001b[49m\n\u001b[1;32m    859\u001b[0m \u001b[43m            \u001b[49m\u001b[43mencoding\u001b[49m\u001b[38;5;241;43m=\u001b[39;49m\u001b[43mioargs\u001b[49m\u001b[38;5;241;43m.\u001b[39;49m\u001b[43mencoding\u001b[49m\u001b[43m,\u001b[49m\n\u001b[1;32m    860\u001b[0m \u001b[43m            \u001b[49m\u001b[43merrors\u001b[49m\u001b[38;5;241;43m=\u001b[39;49m\u001b[43merrors\u001b[49m\u001b[43m,\u001b[49m\n\u001b[1;32m    861\u001b[0m \u001b[43m            \u001b[49m\u001b[43mnewline\u001b[49m\u001b[38;5;241;43m=\u001b[39;49m\u001b[38;5;124;43m\"\u001b[39;49m\u001b[38;5;124;43m\"\u001b[39;49m\u001b[43m,\u001b[49m\n\u001b[1;32m    862\u001b[0m \u001b[43m        \u001b[49m\u001b[43m)\u001b[49m\n\u001b[1;32m    863\u001b[0m     \u001b[38;5;28;01melse\u001b[39;00m:\n\u001b[1;32m    864\u001b[0m         \u001b[38;5;66;03m# Binary mode\u001b[39;00m\n\u001b[1;32m    865\u001b[0m         handle \u001b[38;5;241m=\u001b[39m \u001b[38;5;28mopen\u001b[39m(handle, ioargs\u001b[38;5;241m.\u001b[39mmode)\n",
      "\u001b[0;31mFileNotFoundError\u001b[0m: [Errno 2] No such file or directory: 'application-checkpoints.csv'"
     ]
    }
   ],
   "source": [
    "# Reading all the three CSV files\n",
    "\n",
    "appcheckpoint=pd.read_csv(\"application-checkpoints.csv\")\n",
    "gpu=pd.read_csv(\"gpu.csv\")\n",
    "xy=pd.read_csv(\"task-x-y.csv\")"
   ]
  },
  {
   "cell_type": "markdown",
   "id": "9d376d38",
   "metadata": {},
   "source": [
    "Table **application-checkpoints.csv**:"
   ]
  },
  {
   "cell_type": "code",
   "execution_count": null,
   "id": "e44f827d",
   "metadata": {},
   "outputs": [],
   "source": [
    "# Displaying first three rows of appcheckpoint table\n",
    "\n",
    "appcheckpoint.head(3)"
   ]
  },
  {
   "cell_type": "code",
   "execution_count": null,
   "id": "f4b16899",
   "metadata": {},
   "outputs": [],
   "source": [
    "# Displaying data types of columns in appcheckpoint table\n",
    "\n",
    "appcheckpoint.dtypes"
   ]
  },
  {
   "cell_type": "markdown",
   "id": "bd37747e",
   "metadata": {},
   "source": [
    "Table **gpu.csv**"
   ]
  },
  {
   "cell_type": "code",
   "execution_count": null,
   "id": "ea21fcda",
   "metadata": {},
   "outputs": [],
   "source": [
    "# Displaying first three rows of GPU table\n",
    "\n",
    "gpu.head(3)"
   ]
  },
  {
   "cell_type": "code",
   "execution_count": null,
   "id": "ec670fb3",
   "metadata": {},
   "outputs": [],
   "source": [
    "# Displaying data types of columns in gpu table\n",
    "\n",
    "gpu.dtypes"
   ]
  },
  {
   "cell_type": "markdown",
   "id": "5a6d0187",
   "metadata": {},
   "source": [
    "Table **task-x-y.csv**"
   ]
  },
  {
   "cell_type": "code",
   "execution_count": null,
   "id": "4bf05ebe",
   "metadata": {},
   "outputs": [],
   "source": [
    "# Displaying first three rows of task-x-y table\n",
    "\n",
    "xy.head(3)"
   ]
  },
  {
   "cell_type": "code",
   "execution_count": null,
   "id": "4a82f1d7",
   "metadata": {},
   "outputs": [],
   "source": [
    "# Displaying data types of columns in xy table\n",
    "\n",
    "xy.dtypes"
   ]
  },
  {
   "cell_type": "code",
   "execution_count": null,
   "id": "33e97068",
   "metadata": {},
   "outputs": [],
   "source": [
    "# Displaying the number of rows and columns in all the three tables\n",
    "print(\"Number of rows and columns in appcheckpoint table : \",appcheckpoint.shape)\n",
    "print(\"Number of rows and columns in gpu table : \",gpu.shape)\n",
    "print(\"Number of rows and columns in xy table : \",xy.shape)"
   ]
  },
  {
   "cell_type": "markdown",
   "id": "293efb08",
   "metadata": {},
   "source": [
    "## 4. Data Preparation:"
   ]
  },
  {
   "cell_type": "markdown",
   "id": "eef12316",
   "metadata": {},
   "source": [
    "After Data Understanding, the data is cleaned and preprocessed in preparation for further data analysis. There are some redundant (duplicate) data values in this data set that must be cleaned before further processing."
   ]
  },
  {
   "cell_type": "markdown",
   "id": "b3f2638e",
   "metadata": {},
   "source": [
    "Count of all the duplicates rows in all the three tables are displayed"
   ]
  },
  {
   "cell_type": "code",
   "execution_count": null,
   "id": "ed404340",
   "metadata": {},
   "outputs": [],
   "source": [
    "# Count of duplicate records in appcheckpoint table\n",
    "\n",
    "appcheckpoint.duplicated().sum()"
   ]
  },
  {
   "cell_type": "code",
   "execution_count": null,
   "id": "77ee6a90",
   "metadata": {},
   "outputs": [],
   "source": [
    "# Count of duplicate records in gpu table\n",
    "\n",
    "gpu.duplicated().sum()"
   ]
  },
  {
   "cell_type": "code",
   "execution_count": null,
   "id": "9001920e",
   "metadata": {},
   "outputs": [],
   "source": [
    "# Count of duplicate records in xy table\n",
    "\n",
    "xy.duplicated().sum()"
   ]
  },
  {
   "cell_type": "markdown",
   "id": "be28e59e",
   "metadata": {},
   "source": [
    "Duplicate records from appcheckpoint table is dropped"
   ]
  },
  {
   "cell_type": "code",
   "execution_count": null,
   "id": "95b5abb9",
   "metadata": {},
   "outputs": [],
   "source": [
    "# Removing duplicate records from appcheckpoint table\n",
    "\n",
    "appcheck = appcheckpoint.drop_duplicates()\n",
    "appcheck"
   ]
  },
  {
   "cell_type": "markdown",
   "id": "a42b8cde",
   "metadata": {},
   "source": [
    "Duplicate records from gpu table is dropped"
   ]
  },
  {
   "cell_type": "code",
   "execution_count": null,
   "id": "c88e3ff2",
   "metadata": {},
   "outputs": [],
   "source": [
    "# Removing duplicate records from gpu table\n",
    "\n",
    "gpufinal = gpu.drop_duplicates()\n",
    "gpufinal"
   ]
  },
  {
   "cell_type": "markdown",
   "id": "409b40c2",
   "metadata": {},
   "source": [
    "Duplicate records from xy table is dropped"
   ]
  },
  {
   "cell_type": "code",
   "execution_count": null,
   "id": "856a39f0",
   "metadata": {},
   "outputs": [],
   "source": [
    "# Removing duplicate records from xy table\n",
    "\n",
    "xyfinal = xy.drop_duplicates()\n",
    "xyfinal"
   ]
  },
  {
   "cell_type": "markdown",
   "id": "101a7d4b",
   "metadata": {},
   "source": [
    "To ensure clarity, the Time Stamp format in appcheckand gpu is changed from object to DateTime64."
   ]
  },
  {
   "cell_type": "code",
   "execution_count": null,
   "id": "19397152",
   "metadata": {},
   "outputs": [],
   "source": [
    "# Changing the Datatype column of Timestamp to DateTime64\n",
    "appcheck[\"timestamp\"] = appcheck[\"timestamp\"].apply(lambda x: pd.Timestamp(x))\n",
    "\n",
    "# Displaying each columns Datatype\n",
    "appcheck.dtypes"
   ]
  },
  {
   "cell_type": "markdown",
   "id": "f921d8fa",
   "metadata": {},
   "source": [
    "The gpuSerial column in the gpufinal table is converted from numeric to object format in order to perform additional analysis."
   ]
  },
  {
   "cell_type": "code",
   "execution_count": null,
   "id": "dcb77ce9",
   "metadata": {},
   "outputs": [],
   "source": [
    "# Changing the Datatype column of Timestamp to DateTime64\n",
    "gpufinal[\"timestamp\"] = gpufinal[\"timestamp\"].apply(lambda x: pd.Timestamp(x))\n",
    "# Changing the Datatype column of Timestamp to String\n",
    "gpufinal[\"gpuSerial\"] = gpufinal[\"gpuSerial\"].apply(lambda x: str(x))\n",
    "\n",
    "# Displaying each columns Datatype\n",
    "gpufinal.dtypes"
   ]
  },
  {
   "cell_type": "markdown",
   "id": "7867265c",
   "metadata": {},
   "source": [
    "The start and stop times is calculated by using the eventType from appcheck table."
   ]
  },
  {
   "cell_type": "code",
   "execution_count": null,
   "id": "fceff046",
   "metadata": {},
   "outputs": [],
   "source": [
    "# Creating a new Data Frame for Event Type Start\n",
    "appcheck_start = appcheck.loc[appcheck[\"eventType\"] == \"START\"]\n",
    "\n",
    "# Creating a new Data Frame for Event Type Stop\n",
    "appcheck_stop = appcheck.loc[appcheck[\"eventType\"] == \"STOP\"]\n",
    "\n",
    "# Merging dataframes for Both Start and Stop Time\n",
    "appcheck_start_stop = pd.merge(appcheck_start, appcheck_stop,  how='left', on=['hostname','eventName','jobId','taskId'],\n",
    "                         suffixes=('_Start_Time', '_Stop_Time'))\n",
    "\n",
    "# Displaying first three rows of appcheck_start_stop table\n",
    "appcheck_start_stop.tail(4)"
   ]
  },
  {
   "cell_type": "markdown",
   "id": "2267cc22",
   "metadata": {},
   "source": [
    "Event Render Time is calculated based on the variation between start and stop EventType times."
   ]
  },
  {
   "cell_type": "code",
   "execution_count": null,
   "id": "49c461f2",
   "metadata": {},
   "outputs": [],
   "source": [
    "# Calculating Event Render Time based on the difference between Start and Stop Time\n",
    "appcheck_start_stop[\"Event_RenderTime\"] = (appcheck_start_stop[\"timestamp_Stop_Time\"] - appcheck_start_stop[\"timestamp_Start_Time\"]).dt.total_seconds()\n",
    "\n",
    "# Displaying each columns Datatype\n",
    "appcheck_start_stop.dtypes"
   ]
  },
  {
   "cell_type": "code",
   "execution_count": null,
   "id": "22b7ead1",
   "metadata": {},
   "outputs": [],
   "source": [
    "# Displaying last three rows of appcheck_start_stop table\n",
    "appcheck_start_stop.tail(3)"
   ]
  },
  {
   "cell_type": "code",
   "execution_count": null,
   "id": "8f58fea0",
   "metadata": {},
   "outputs": [],
   "source": [
    "# Changing the Datatype column of Event Render Time to String\n",
    "appcheck_start_stop[\"Event_RenderTime\"] = appcheck_start_stop[\"Event_RenderTime\"].astype(str)\n",
    "\n",
    "# Changing the Datatype column of Event Render Time to Float32\n",
    "appcheck_start_stop[\"Event_RenderTime\"] = appcheck_start_stop[\"Event_RenderTime\"].astype('float32')\n",
    "\n",
    "# Displaying last three rows of appcheck_start_stop table\n",
    "appcheck_start_stop.tail(3)"
   ]
  },
  {
   "cell_type": "markdown",
   "id": "cd07ed87",
   "metadata": {},
   "source": [
    "For further interpretation, Event Render Time of appcheck table is sorted by Hostname."
   ]
  },
  {
   "cell_type": "code",
   "execution_count": null,
   "id": "43a2d9aa",
   "metadata": {},
   "outputs": [],
   "source": [
    "# Sorting appcheck_start_stop Dataframe based on Hostname\n",
    "appcheck_start_stop.sort_values(by=[\"hostname\"], inplace=True)\n",
    "\n",
    "# Displaying last seven rows of appcheck_start_stop table\n",
    "appcheck_start_stop.tail(7)"
   ]
  },
  {
   "cell_type": "code",
   "execution_count": null,
   "id": "0fe29499",
   "metadata": {},
   "outputs": [],
   "source": [
    "# DataFrame is filtered based on Total Render\n",
    "host_PT = appcheck_start_stop.loc[appcheck_start_stop[\"eventName\"] == \"TotalRender\"]\n",
    "\n",
    "# DataFrame Sorted based on Hostname\n",
    "host_PT = host_PT.groupby(by=[\"hostname\"], as_index=False).mean()\n",
    "\n",
    "# Displaying first three rows of host_PT table\n",
    "host_PT.head(3)"
   ]
  },
  {
   "cell_type": "code",
   "execution_count": null,
   "id": "7ed538f9",
   "metadata": {},
   "outputs": [],
   "source": [
    "# Displaying Column names of gpufinal table\n",
    "gpufinal.columns"
   ]
  },
  {
   "cell_type": "markdown",
   "id": "c1e0684f",
   "metadata": {},
   "source": [
    "Grouping gpufinal table based on hostname and other performance parameters:"
   ]
  },
  {
   "cell_type": "code",
   "execution_count": null,
   "id": "b5efae72",
   "metadata": {},
   "outputs": [],
   "source": [
    "# Grouping the dataframe based on hostname\n",
    "gpu_PF = gpufinal[[\"hostname\",\"gpuUUID\",\"gpuSerial\",\"powerDrawWatt\",\"gpuTempC\",\"gpuUtilPerc\",\"gpuMemUtilPerc\"]].groupby(by=[\"hostname\",\"gpuUUID\",\"gpuSerial\"], as_index=False).mean()\n",
    "\n",
    "# Displaying last five rows of gpu_PF\n",
    "gpu_PF.tail(5)"
   ]
  },
  {
   "cell_type": "markdown",
   "id": "7fb9093a",
   "metadata": {},
   "source": [
    "A TP data frame is created by combining host PT and gpu PF based on the hostname."
   ]
  },
  {
   "cell_type": "code",
   "execution_count": null,
   "id": "dc83e02c",
   "metadata": {},
   "outputs": [],
   "source": [
    "# Merging two dataframes based on hostname\n",
    "TP = pd.merge(host_PT, gpu_PF, on=\"hostname\")\n",
    "\n",
    "# Displaying first three rows of TP\n",
    "TP.head(3)"
   ]
  },
  {
   "cell_type": "code",
   "execution_count": null,
   "id": "ead1be90",
   "metadata": {},
   "outputs": [],
   "source": [
    "# Displaying first three rows of appcheck_start_stop\n",
    "appcheck_start_stop.head(3)"
   ]
  },
  {
   "cell_type": "markdown",
   "id": "e4d98ee3",
   "metadata": {},
   "source": [
    "xyfinal1 is made by combining xyfinal and appcheck_start_stop on the basis of Total Render (Entire task). The xy_level8 data frame is created for the level 8 image by grouping Event Render Time by x and y coordinates."
   ]
  },
  {
   "cell_type": "code",
   "execution_count": null,
   "id": "0ba27bc6",
   "metadata": {},
   "outputs": [],
   "source": [
    "# Merging dataframes xyfinal, appcheck_start_stop for Total Render\n",
    "xyfinal1 = pd.merge(xyfinal, appcheck_start_stop.loc[appcheck_start_stop[\"eventName\"]==\"TotalRender\"],\n",
    "                       how=\"inner\", on=[\"jobId\",\"taskId\"], suffixes=(\"_task\",\"_ap\"))\n",
    "\n",
    "# Creating xy_level8 and Sorting Event Render Time for Level 8\n",
    "xy_level8 = xyfinal1[[\"Event_RenderTime\",\"x\",\"y\"]].loc[xyfinal1[\"level\"]==8]\n",
    "\n",
    "# Event Render Time for x and y Coordinates for level 8\n",
    "xy_level8 = xy_level8.groupby(by=[\"x\",\"y\"], as_index=False).mean()\n",
    "xy_level8.head(5)"
   ]
  },
  {
   "cell_type": "markdown",
   "id": "eeed7e52",
   "metadata": {},
   "source": [
    "The Level RT table is created for calculating Average Event Render Time for the level 4, 8, and 12."
   ]
  },
  {
   "cell_type": "code",
   "execution_count": null,
   "id": "c709743e",
   "metadata": {},
   "outputs": [],
   "source": [
    "# Creating a new data frame for level and event render time\n",
    "Level_RT = xyfinal1[[\"level\",\"Event_RenderTime\"]]\n",
    "\n",
    "# Grouping based on level\n",
    "Level_RT = Level_RT.groupby(by=[\"level\"], as_index=False).mean()\n",
    "\n",
    "# Displaying the table Level_RT\n",
    "Level_RT"
   ]
  },
  {
   "cell_type": "markdown",
   "id": "624beb5f",
   "metadata": {},
   "source": [
    "## 5. Exploratory Data Analysis:"
   ]
  },
  {
   "cell_type": "markdown",
   "id": "15717f04",
   "metadata": {},
   "source": [
    "Exploratory Data Analysis is used to analyze data and envision models on Terapixel preprocessed data. This analysis will help to improve the image rendering process."
   ]
  },
  {
   "cell_type": "markdown",
   "id": "4e1fba44",
   "metadata": {},
   "source": [
    "### Assessing the event types that dominate task runtimes:"
   ]
  },
  {
   "cell_type": "code",
   "execution_count": null,
   "id": "3f9c686e",
   "metadata": {},
   "outputs": [],
   "source": [
    "# Grouping the dataframe based on Event Name and Event Render Time\n",
    "Event_Tab = appcheck_start_stop[[\"eventName\",\"Event_RenderTime\"]].groupby(by=\"eventName\", as_index=False).mean()\n",
    "\n",
    "# Sorting based on Event Render Time\n",
    "Event_Tab.sort_values(by=\"Event_RenderTime\", ascending=False, inplace=True)\n",
    "\n",
    "# Resetting dataframe index\n",
    "Event_Tab = Event_Tab.reset_index(drop=True)\n",
    "\n",
    "# Display the Event_Tab table\n",
    "Event_Tab"
   ]
  },
  {
   "cell_type": "code",
   "execution_count": null,
   "id": "3c389049",
   "metadata": {},
   "outputs": [],
   "source": [
    "# Sorting based on Event Render Time\n",
    "Event_Tab = Event_Tab.sort_values(by='Event_RenderTime', ascending=True)"
   ]
  },
  {
   "cell_type": "code",
   "execution_count": null,
   "id": "2d1d835c",
   "metadata": {},
   "outputs": [],
   "source": [
    "# Plotting a barplot using seaborn library for Events and Average Render Time\n",
    "sns.set_style('whitegrid')\n",
    "sns.set_context('notebook', font_scale=1.0)\n",
    "plt.subplots(figsize=(6,5))\n",
    "palette = {i: \"red\" if i == \"TotalRender\" else 'black' for i in Event_Tab[\"eventName\"]}\n",
    "RenderTime_Plot = sns.barplot(data=Event_Tab, x=\"eventName\", y=\"Event_RenderTime\",palette=palette)\n",
    "\n",
    "# Formatting the barplot\n",
    "for g in RenderTime_Plot.patches:\n",
    "    RenderTime_Plot.annotate(format(g.get_height(), '.7f'),\n",
    "                       (g.get_x() + g.get_width() / 2., g.get_height()),\n",
    "                       ha = 'center', va = 'center',\n",
    "                       xytext = (0, 6),\n",
    "                       textcoords = 'offset points')\n",
    "\n",
    "# Adding the labels\n",
    "plt.title(\"EventRenderTime\", size=23)\n",
    "plt.xlabel(\"Events\", size = 16)\n",
    "plt.ylabel(\"Average Render Time of Events(seconds)\", size = 15)\n",
    "plt.show()"
   ]
  },
  {
   "cell_type": "markdown",
   "id": "d7a601ac",
   "metadata": {},
   "source": [
    "The above bar plot depicts the average render time for all events. The plot shows that Total Render takes 42.6047 seconds of render time, which is the average time required to render the entire task. The Render event takes the most time, with an average of 41.2082 seconds, followed by Uploading and Tiling, which take 1.3936 and 0.9732 seconds, respectively. Saving Config event takes only 0.00247 seconds, which is the shortest average time when compared to other events."
   ]
  },
  {
   "cell_type": "markdown",
   "id": "b02eb80f",
   "metadata": {},
   "source": [
    "### Correlation between GPU metrics:"
   ]
  },
  {
   "cell_type": "markdown",
   "id": "59036ba8",
   "metadata": {},
   "source": [
    "GPU utility percentage and GPU memory utility percentage are found to correlate with each other, according to the plot, as GPU utilization keeps increasing with memory utilization. Furthermore, we can deduce that an increase in memory utilization can result in a long event render time. GPU power draw and temperature have the least significant relation. It's also worth noting that render time is inversely related to GPU temperature, so as Event Render time increases, so does GPU temperature."
   ]
  },
  {
   "cell_type": "code",
   "execution_count": null,
   "id": "fd610f1e",
   "metadata": {},
   "outputs": [],
   "source": [
    "# Plotting a pair Plot for GPU Measure Comparison\n",
    "sns.set_style('dark')\n",
    "plt.figure(figsize=(7,6))\n",
    "sns.set_context('paper', font_scale=1.4)\n",
    "p = sns.pairplot(data=TP)\n",
    "p.fig.tight_layout()\n",
    "p.fig.subplots_adjust(top=0.87)\n",
    "p.fig.suptitle(\"GPU Measure Comparison\", y=1.0)"
   ]
  },
  {
   "cell_type": "markdown",
   "id": "c88a33a0",
   "metadata": {},
   "source": [
    "### Identification of serial numbers of GPU with least performance:"
   ]
  },
  {
   "cell_type": "code",
   "execution_count": null,
   "id": "c49f09d9",
   "metadata": {},
   "outputs": [],
   "source": [
    "# Calculating GPU with least performance and grouping by serial number for Top 10\n",
    "Worst = \"\"\" select  gpuSerial, Event_RenderTime As \"Time\" from TP\n",
    " group by gpuSerial order by Time desc limit 10; \"\"\"\n",
    "GPU_Worst = pd.DataFrame(sqlfn(Worst)) "
   ]
  },
  {
   "cell_type": "code",
   "execution_count": null,
   "id": "37aad5ec",
   "metadata": {},
   "outputs": [],
   "source": [
    "# Ordering GPU with least performance in Descending order\n",
    "GPU_Worst.index.name='Order'"
   ]
  },
  {
   "cell_type": "code",
   "execution_count": null,
   "id": "ec120964",
   "metadata": {},
   "outputs": [],
   "source": [
    "# Displaying the dataframe GPU_Worst\n",
    "GPU_Worst"
   ]
  },
  {
   "cell_type": "markdown",
   "id": "f6677a50",
   "metadata": {},
   "source": [
    "The bar plot below depicts GPU card runtime. The GPU card with serial number 2821 has the worst efficiency, with a mean render time of 47.038776 seconds, followed by the GPU card with serial number 8645, which has a render time of 47.013439 seconds. Leaving GPU card ending with serial number 5378 with a 0.020271 second delay in render time from GPU card ending with serial number 5378. Leaving GPU cards 8802 and 1137 with render times of 46.399696 and 46.350880 seconds, respectively, with slightly better performance than the other GPU cards."
   ]
  },
  {
   "cell_type": "code",
   "execution_count": null,
   "id": "d9d5509d",
   "metadata": {},
   "outputs": [],
   "source": [
    "# Creating Figure and gridspec\n",
    "import matplotlib.pyplot as plt\n",
    "fg = plt.figure(figsize=(11,9), dpi= 85)\n",
    "pg = plt.GridSpec(5, 4, hspace=0.6, wspace=0.3)\n",
    "subp = fig.add_subplot(grid[:-2, :-1])\n",
    "\n",
    "#Plotting Bar chart for GPU with least Performance(Top 10)\n",
    "import seaborn as sns\n",
    "g = sns.barplot(data=GPU_Worst, x=\"gpuSerial\", y=\"Time\",order=GPU_Worst.sort_values('Time',ascending = False).gpuSerial,color='yellow',alpha=.6)\n",
    "\n",
    "# Annotate Text\n",
    "for i, cty in enumerate(GPU_Worst.Time):\n",
    "    g.text(i, cty+0.005, round(cty, 3),size = 11, horizontalalignment='center')\n",
    "\n",
    "# Labelling\n",
    "g.set_title('GPU with Least Performance (Top 10)', fontdict={'size':12})\n",
    "g.set(ylabel='Run Time(Sec)',xlabel='GPU Serial Number',ylim=(46.3, 47.1),)\n",
    "g.set_xticklabels(g.get_xticklabels(), rotation=45, horizontalalignment='right')\n",
    "# coloring the X axis labels\n",
    "plt.show()"
   ]
  },
  {
   "cell_type": "code",
   "execution_count": null,
   "id": "06595eb2",
   "metadata": {},
   "outputs": [],
   "source": [
    "# Displaying DataFrame TP\n",
    "TP"
   ]
  },
  {
   "cell_type": "markdown",
   "id": "23dce723",
   "metadata": {},
   "source": [
    "### Interplay between GPU Temperature and Power Consumption:"
   ]
  },
  {
   "cell_type": "markdown",
   "id": "1b850341",
   "metadata": {},
   "source": [
    "The below joint plot shows Interplay between GPU temperature and Power Consumption. It is inferred from the below plot that Power Consumption is directly proportional to GPU temperature as the Power Consumption increased the Temperature of the GPU increases linearly."
   ]
  },
  {
   "cell_type": "code",
   "execution_count": null,
   "id": "4b403aec",
   "metadata": {},
   "outputs": [],
   "source": [
    "# Plotting a Joint Plot for Interplay between GPU Temperature and Power Consumption\n",
    "sns.set_style('dark')\n",
    "plt.figure(figsize=(6,5))\n",
    "sns.set_context('paper', font_scale=1.2)\n",
    "p = sns.jointplot(x='powerDrawWatt', y='gpuTempC', data=TP, kind='reg',joint_kws={'line_kws':{'color':'black'}})\n",
    "p.fig.suptitle(\"Interplay between GPU Temperature and Power Consumption\")\n",
    "p.ax_joint.set_xlabel('Power Consumption (in watt)')\n",
    "p.ax_joint.set_ylabel('GPU Temperature (in C)')\n",
    "p.fig.tight_layout()\n",
    "p.fig.subplots_adjust(top=0.87)\n",
    "\n",
    "print(f'The Correlation Coefficient between GPU Temperature and Power Consumption = {np.round(np.corrcoef(TP.powerDrawWatt, TP.gpuTempC)[0,1], 2)}')"
   ]
  },
  {
   "cell_type": "markdown",
   "id": "5698b887",
   "metadata": {},
   "source": [
    "### Variation in Memory Utilization Percentage of the GPU with GPU Temperature:"
   ]
  },
  {
   "cell_type": "markdown",
   "id": "0784795e",
   "metadata": {},
   "source": [
    "The scatter plot below depicts the variation in GPU Memory Utilization Percentage with temperature. It depicts two clusters that formed in the same temperature range. When the Memory Utilization Percentage ranges from 28 to 32 and 34 to 37, the GPU temperature varies. There is no linearity between the two. There is no significant relationship between GPU Memory Utilization Percentage and temperature because they are independent of one another."
   ]
  },
  {
   "cell_type": "code",
   "execution_count": null,
   "id": "44d86d51",
   "metadata": {},
   "outputs": [],
   "source": [
    "# Plotting a Joint Plot for Correlation coefficient between GPU Temperature and Memory Utilization\n",
    "sns.set_style('dark')\n",
    "plt.figure(figsize=(6,5))\n",
    "sns.set_context('paper', font_scale=1.2)\n",
    "sns.scatterplot(x='gpuMemUtilPerc', y='gpuTempC', data=TP)\n",
    "plt.title('Correlation coefficient between GPU Temperature and Memory Utilization')\n",
    "plt.xlabel('GPU Memory Utilization')\n",
    "plt.ylabel('GPU Temperature(in C)')\n",
    "\n",
    "print(f'The Correlation Coefficient between GPU Temperature and Memory Utilization = {np.round(np.corrcoef(TP.gpuMemUtilPerc, TP.gpuTempC)[0,1], 2)}')"
   ]
  },
  {
   "cell_type": "markdown",
   "id": "f92ea1df",
   "metadata": {},
   "source": [
    "### Event Render time for each co-ordinate of the Rendered Tile (Level 8):"
   ]
  },
  {
   "cell_type": "code",
   "execution_count": null,
   "id": "bd6aecb0",
   "metadata": {},
   "outputs": [],
   "source": [
    "# Plotting heatmap Event Render time for each co-ordinate of the Rendered tile for level 8\n",
    "sns.set(font_scale=0.8)\n",
    "sns.set_context('paper', font_scale=1.4)\n",
    "fig, ax = plt.subplots(figsize=(15,10))\n",
    "glue = xy_level8[[\"x\",\"y\",\"Event_RenderTime\"]].pivot(\"x\", \"y\", \"Event_RenderTime\")\n",
    "ax = sns.heatmap(glue, cmap='YlGnBu', annot=False, xticklabels=False, yticklabels=False)\n",
    "ax.tick_params()\n",
    "\n",
    "# Adding Title to the visual\n",
    "plt.title(\"Heatmap based on Event Render time for each co-ordinate of the Rendered tile for level 8\", size=20,fontweight='bold' )"
   ]
  },
  {
   "cell_type": "markdown",
   "id": "3f0da38c",
   "metadata": {},
   "source": [
    "The heatmap for Event Render Time for each coordinate of the rendered tile for level 8 is shown above. Shades of green to blue represent tiles with steadily rising event render time, while shades of green represent tiles with average event render time and shades of yellow tiles represent areas with very little time taken for rendering."
   ]
  },
  {
   "cell_type": "markdown",
   "id": "abfb93c1",
   "metadata": {},
   "source": [
    "----------------------Completion-------------------"
   ]
  },
  {
   "cell_type": "code",
   "execution_count": null,
   "id": "d31a2036",
   "metadata": {},
   "outputs": [],
   "source": []
  }
 ],
 "metadata": {
  "kernelspec": {
   "display_name": "Python 3 (ipykernel)",
   "language": "python",
   "name": "python3"
  },
  "language_info": {
   "codemirror_mode": {
    "name": "ipython",
    "version": 3
   },
   "file_extension": ".py",
   "mimetype": "text/x-python",
   "name": "python",
   "nbconvert_exporter": "python",
   "pygments_lexer": "ipython3",
   "version": "3.10.8"
  }
 },
 "nbformat": 4,
 "nbformat_minor": 5
}
